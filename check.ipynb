{
 "cells": [
  {
   "cell_type": "code",
   "execution_count": 1,
   "metadata": {},
   "outputs": [
    {
     "name": "stdout",
     "output_type": "stream",
     "text": [
      "current path:  ./update_response/claude-2\n",
      "current path:  ./update_response/claude-1\n",
      "current path:  ./update_response/llama-2-7b-chat-hf_top-p_6\n",
      "current path:  ./update_response/llama-2-7b-chat-hf_INT8\n",
      "\u001b[0;31mBio-Medical has 200 queries, not 1535!!!\u001b[0m\n",
      "\u001b[0;31mFinance has 200 queries, not 1125!!!\u001b[0m\n",
      "\u001b[0;31mScience has 200 queries, not 1409!!!\u001b[0m\n",
      "\u001b[0;31mEducation has 200 queries, not 1701!!!\u001b[0m\n",
      "\u001b[0;31mOpen-Domain has 200 queries, not 3000!!!\u001b[0m\n",
      "current path:  ./update_response/llama-2-13b-chat-hf\n",
      "current path:  ./update_response/llama-2-7b-chat-hf_top-p_10\n",
      "current path:  ./update_response/llama-2-13b-chat-hf_INT4\n",
      "\u001b[0;31mBio-Medical has 200 queries, not 1535!!!\u001b[0m\n",
      "\u001b[0;31mFinance has 200 queries, not 1125!!!\u001b[0m\n",
      "\u001b[0;31mScience has 200 queries, not 1409!!!\u001b[0m\n",
      "\u001b[0;31mEducation has 200 queries, not 1701!!!\u001b[0m\n",
      "\u001b[0;31mOpen-Domain has 200 queries, not 3000!!!\u001b[0m\n",
      "current path:  ./update_response/chatgpt_greedy\n",
      "current path:  ./update_response/llama-2-7b-chat-hf\n",
      "current path:  ./update_response/alpaca-7b\n",
      "current path:  ./update_response/llama-2-7b-chat-hf_INT4\n",
      "\u001b[0;31mBio-Medical has 200 queries, not 1535!!!\u001b[0m\n",
      "\u001b[0;31mFinance has 200 queries, not 1125!!!\u001b[0m\n",
      "\u001b[0;31mScience has 200 queries, not 1409!!!\u001b[0m\n",
      "\u001b[0;31mEducation has 200 queries, not 1701!!!\u001b[0m\n",
      "\u001b[0;31mOpen-Domain has 200 queries, not 3000!!!\u001b[0m\n",
      "current path:  ./update_response/vicuna-13b\n",
      "current path:  ./update_response/text-davinci-003\n",
      "current path:  ./update_response/vicuna-7b\n",
      "current path:  ./update_response/chatgpt\n",
      "current path:  ./update_response/llama-2-7b-chat-hf_beam\n",
      "current path:  ./update_response/chatgpt_top-p\n",
      "current path:  ./update_response/llama-2-7b-chat-hf_top-p_4\n",
      "current path:  ./update_response/llama-2-7b-chat-hf_top-p_8\n",
      "current path:  ./update_response/llama-2-7b-chat-hf_top-p\n",
      "current path:  ./update_response/llama-7b\n",
      "\u001b[0;31mBio-Medical has 200 queries, not 1535!!!\u001b[0m\n",
      "\u001b[0;31mFinance has 200 queries, not 1125!!!\u001b[0m\n",
      "\u001b[0;31mScience has 200 queries, not 1409!!!\u001b[0m\n",
      "\u001b[0;31mEducation has 200 queries, not 1701!!!\u001b[0m\n",
      "\u001b[0;31mOpen-Domain has 200 queries, not 3000!!!\u001b[0m\n",
      "current path:  ./update_response/llama-2-7b-chat-hf_top-p_2\n",
      "current path:  ./update_response/text-davinci-002\n",
      "current path:  ./update_response/llama-2-7b-chat-hf_top-k\n",
      "current path:  ./update_response/llama-2-13b-chat-hf_INT8\n",
      "\u001b[0;31mBio-Medical has 200 queries, not 1535!!!\u001b[0m\n",
      "\u001b[0;31mFinance has 200 queries, not 1125!!!\u001b[0m\n",
      "\u001b[0;31mScience has 200 queries, not 1409!!!\u001b[0m\n",
      "\u001b[0;31mEducation has 200 queries, not 1701!!!\u001b[0m\n",
      "\u001b[0;31mOpen-Domain has 200 queries, not 3000!!!\u001b[0m\n",
      "\n",
      "Done!\n"
     ]
    }
   ],
   "source": [
    "import time\n",
    "import json\n",
    "import torch\n",
    "import os\n",
    "\n",
    "\n",
    "file2len = {\n",
    "    # original\n",
    "    # \"BioASQ\": 4234,\n",
    "    # \"nfcorpus\": 564,\n",
    "    # \"FiQA-2018\": 4455,\n",
    "    # \"SciFact\": 1409,\n",
    "    # \"LearningQ\": 5235,\n",
    "    # \"HotpotQA\": 7405,\n",
    "    # \"HaluEval\": 4507,\n",
    "    # domain\n",
    "    # \"Bio-Medical\": 4798,\n",
    "    # \"Finance\": 4455,\n",
    "    # \"Science\": 1409,\n",
    "    # \"Education\": 5235,\n",
    "    # \"Open-Domain\": 11912,\n",
    "    # pure\n",
    "    \"Bio-Medical\": 1535,\n",
    "    \"Finance\": 1125,\n",
    "    \"Science\": 1409,\n",
    "    \"Education\": 1701,\n",
    "    \"Open-Domain\": 3000,\n",
    "    # sample\n",
    "    # \"Bio-Medical\": 200,\n",
    "    # \"Finance\": 200,\n",
    "    # \"Science\": 200,\n",
    "    # \"Education\": 200,\n",
    "    # \"Open-Domain\": 200,\n",
    "}\n",
    "dir = \"./update_response/\"\n",
    "for path in os.listdir(dir):\n",
    "    if path in []:\n",
    "        continue\n",
    "    # path=\"\"\n",
    "    path = os.path.join(os.path.join(dir, path), \"{}.json\")\n",
    "    print(\"current path: \", path.split(\"/{}\")[0])\n",
    "    files = list(file2len.keys())\n",
    "    data_paths = [path.format(file) for file in files]\n",
    "    for data_path in data_paths:\n",
    "        file = data_path.split(\"/\")[-1].split(\".\")[0]\n",
    "        with open(data_path, \"r\") as f:\n",
    "            query = json.load(f)\n",
    "        if file2len[file] != len(query):\n",
    "            print(\"\\033[0;31m%s\\033[0m\" % f\"{file} has {len(query)} queries, not {file2len[file]}!!!\")\n",
    "        # else:\n",
    "        #     print(f\"{file} has {len(query)} queries, as expected.\")\n",
    "print(\"\\nDone!\")"
   ]
  },
  {
   "cell_type": "code",
   "execution_count": 3,
   "metadata": {},
   "outputs": [
    {
     "name": "stdout",
     "output_type": "stream",
     "text": [
      "device: cuda\n"
     ]
    }
   ],
   "source": [
    "import os\n",
    "import torch\n",
    "\n",
    "# os.environ[\"CUDA_VISIBLE_DEVICES\"] = \"6\"\n",
    "os.environ[\"CUDA_VISIBLE_DEVICES\"] = \"0,1,2,3\"\n",
    "\n",
    "device = \"cuda\" if torch.cuda.is_available() else \"cpu\"\n",
    "print(\"device: \" + device)"
   ]
  }
 ],
 "metadata": {
  "kernelspec": {
   "display_name": "base",
   "language": "python",
   "name": "python3"
  },
  "language_info": {
   "codemirror_mode": {
    "name": "ipython",
    "version": 3
   },
   "file_extension": ".py",
   "mimetype": "text/x-python",
   "name": "python",
   "nbconvert_exporter": "python",
   "pygments_lexer": "ipython3",
   "version": "3.11.5"
  }
 },
 "nbformat": 4,
 "nbformat_minor": 2
}
