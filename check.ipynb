{
 "cells": [
  {
   "cell_type": "code",
   "execution_count": 7,
   "metadata": {},
   "outputs": [
    {
     "name": "stdout",
     "output_type": "stream",
     "text": [
      "current path:  ./data\n",
      "Bio-Medical has 4798 queries, as expected.\n",
      "Finance has 4455 queries, as expected.\n",
      "Science has 1409 queries, as expected.\n",
      "Education has 5235 queries, as expected.\n",
      "Open-Domain has 11912 queries, as expected.\n",
      "done\n"
     ]
    }
   ],
   "source": [
    "import time\n",
    "import json\n",
    "import torch\n",
    "import os\n",
    "\n",
    "\n",
    "file2len = {\n",
    "    # original\n",
    "    # \"BioASQ\": 4234,\n",
    "    # \"nfcorpus\": 564,\n",
    "    # \"FiQA-2018\": 4455,\n",
    "    # \"SciFact\": 1409,\n",
    "    # \"LearningQ\": 5235,\n",
    "    # \"HotpotQA\": 7405,\n",
    "    # \"HaluEval\": 4507,\n",
    "    # domain\n",
    "    \"Bio-Medical\": 4798,\n",
    "    \"Finance\": 4455,\n",
    "    \"Science\": 1409,\n",
    "    \"Education\": 5235,\n",
    "    \"Open-Domain\": 11912,\n",
    "    # sample\n",
    "    # \"Bio-Medical\": 250,\n",
    "    # \"Finance\": 250,\n",
    "    # \"Science\": 250,\n",
    "    # \"Education\": 250,\n",
    "    # \"Open-Domain\": 250,\n",
    "}\n",
    "path  =\"./data/\" + \"{}.json\"\n",
    "print(\"current path: \", path.split(\"/{}\")[0])\n",
    "files = list(file2len.keys())\n",
    "data_paths = [path.format(file) for file in files]\n",
    "for data_path in data_paths:\n",
    "    file = data_path.split(\"/\")[-1].split(\".\")[0]\n",
    "    with open(data_path, \"r\") as f:\n",
    "        query = json.load(f)\n",
    "    if file2len[file] != len(query):\n",
    "        print(\"\\033[0;31m%s\\033[0m\" % f\"{file} has {len(query)} queries, not {file2len[file]}!!!\")\n",
    "    else:\n",
    "        print(f\"{file} has {len(query)} queries, as expected.\")\n",
    "print(\"done\")"
   ]
  },
  {
   "cell_type": "code",
   "execution_count": 3,
   "metadata": {},
   "outputs": [
    {
     "name": "stdout",
     "output_type": "stream",
     "text": [
      "cuda\n"
     ]
    }
   ],
   "source": [
    "import os\n",
    "import torch\n",
    "\n",
    "# os.environ[\"CUDA_VISIBLE_DEVICES\"] = \"6\"\n",
    "os.environ[\"CUDA_VISIBLE_DEVICES\"] = \"0,1,2,3\"\n",
    "\n",
    "device = \"cuda\" if torch.cuda.is_available() else \"cpu\"\n",
    "print(device)"
   ]
  }
 ],
 "metadata": {
  "kernelspec": {
   "display_name": "base",
   "language": "python",
   "name": "python3"
  },
  "language_info": {
   "codemirror_mode": {
    "name": "ipython",
    "version": 3
   },
   "file_extension": ".py",
   "mimetype": "text/x-python",
   "name": "python",
   "nbconvert_exporter": "python",
   "pygments_lexer": "ipython3",
   "version": "3.11.5"
  }
 },
 "nbformat": 4,
 "nbformat_minor": 2
}
