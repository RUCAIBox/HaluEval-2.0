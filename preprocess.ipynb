{
 "cells": [
  {
   "cell_type": "code",
   "execution_count": 4,
   "metadata": {},
   "outputs": [
    {
     "name": "stdout",
     "output_type": "stream",
     "text": [
      "1494\n"
     ]
    }
   ],
   "source": [
    "import json\n",
    "import random\n",
    "random.seed(42)\n",
    "\n",
    "with open(\"./tmp/v1.0-simplified-nq-dev-all.jsonl\", \"r\", encoding=\"utf-8\") as f:\n",
    "    data = [json.loads(line) for line in f.readlines()]\n",
    "    print(len(data))\n",
    "    # dict: id, question\n",
    "    data = [\n",
    "        {\n",
    "            \"id\": i,\n",
    "            \"user_query\": data[i][\"question_text\"],\n",
    "        }\n",
    "        for i in range(len(data))\n",
    "    ]\n",
    "    with open(\"./data/NaturalQuestions.json\", \"w\", encoding=\"utf-8\") as g:\n",
    "        json.dump(data, g, indent=2, ensure_ascii=False)\n",
    "        \n",
    "    data = random.sample(data, 100)\n",
    "    data = sorted(data, key=lambda x: x[\"id\"])\n",
    "    \n",
    "    with open(\"./NaturalQuestions.json\", \"w\", encoding=\"utf-8\") as g:\n",
    "        json.dump(data, g, indent=2, ensure_ascii=False)"
   ]
  },
  {
   "cell_type": "code",
   "execution_count": 2,
   "metadata": {},
   "outputs": [],
   "source": [
    "import json\n",
    "\n",
    "with open(\"./tmp/LearningQ/data/experiments/teded/tgt-test.txt\", \"r\", encoding=\"utf-8\") as f:\n",
    "    data = [line.strip() for line in f.readlines()]\n",
    "    data = [i for i in data if i.endswith(\"?\")]\n",
    "    data = [\n",
    "        {\n",
    "            \"id\": i,\n",
    "            \"user_query\": data[i],\n",
    "        }\n",
    "        for i in range(len(data))\n",
    "    ]\n",
    "    with open(\"./LearningQ.json\", \"w\", encoding=\"utf-8\") as g:\n",
    "        json.dump(data, g, indent=2, ensure_ascii=False)"
   ]
  },
  {
   "cell_type": "code",
   "execution_count": 2,
   "metadata": {},
   "outputs": [],
   "source": [
    "import json\n",
    "\n",
    "model = \"vicuna-13b\"\n",
    "files = [\n",
    "            \"BioASQ\",\n",
    "            \"nfcorpus\",\n",
    "            \"FiQA-2018\",\n",
    "            \"SciFact\",\n",
    "            \"LearningQ\",\n",
    "            \"NaturalQuestions\",\n",
    "            \"HotpotQA\",\n",
    "        ]\n",
    "\n",
    "for file in files:\n",
    "\n",
    "    with open(f\"./{model}/{file}.json\", \"r\", encoding=\"utf-8\") as f:\n",
    "        add = json.load(f)\n",
    "    with open(f\"./data/{file}.json\", \"r\", encoding=\"utf-8\") as f:\n",
    "        data = json.load(f)\n",
    "\n",
    "    for i in range(len(data)):\n",
    "        data[i][f\"{model}_response\"] = add[i][f\"{model}_response\"]\n",
    "\n",
    "    with open(f\"./data/{file}_.json\", \"w\", encoding=\"utf-8\") as g:\n",
    "        json.dump(data, g, indent=2, ensure_ascii=False)"
   ]
  },
  {
   "cell_type": "code",
   "execution_count": 4,
   "metadata": {},
   "outputs": [
    {
     "name": "stdout",
     "output_type": "stream",
     "text": [
      "5235\n"
     ]
    }
   ],
   "source": [
    "with open(\"./data/SciFact_add.json\", \"r\", encoding=\"utf-8\") as f:\n",
    "    data = json.load(f)\n",
    "    print(len(data))\n",
    "    data = [\n",
    "        {\n",
    "            \"id\": i,\n",
    "            \"user_query\": data[i][\"user_query\"],\n",
    "            \"chatgpt_response\": data[i][\"chatgpt_response\"],\n",
    "            \"text-davinci-002_response\": data[i][\"text-davinci-002_response\"],\n",
    "            \"text-davinci-003_response\": data[i][\"text-davinci-003_response\"],\n",
    "            \"llama-2-7b-chat-hf_response\": data[i][\"llama-2-7b-chat-hf_response\"],\n",
    "            \"llama-2-13b-chat-hf_response\": data[i][\"llama-2-13b-chat-hf_response\"],\n",
    "            \"alpaca-7b_response\": data[i][\"alpaca-7b_response\"],\n",
    "        }\n",
    "        for i in range(len(data))\n",
    "    ]\n",
    "    with open(\"./data/SciFact_add_.json\", \"w\", encoding=\"utf-8\") as g:\n",
    "        json.dump(data, g, indent=2, ensure_ascii=False)"
   ]
  },
  {
   "cell_type": "code",
   "execution_count": 1,
   "metadata": {},
   "outputs": [],
   "source": [
    "# read judge_part files\n",
    "import json\n",
    "import os\n",
    "\n",
    "for path in os.listdir(\"./judge_part\"):\n",
    "    with open(f\"./judge_part/{path}\", \"r\", encoding=\"utf-8\") as f:\n",
    "        data = json.load(f)\n",
    "        data = sorted(data, key=lambda x: x[\"id\"])\n",
    "        with open(f\"./judge_part/{path}_\", \"w\", encoding=\"utf-8\") as g:\n",
    "            json.dump(data, g, indent=2, ensure_ascii=False)"
   ]
  },
  {
   "cell_type": "code",
   "execution_count": null,
   "metadata": {},
   "outputs": [],
   "source": [
    "import os\n",
    "import json\n",
    "\n",
    "for path in os.listdir(\"./data\"):\n",
    "    with open(f\"./data/{path}\", \"r\", encoding=\"utf-8\") as f:\n",
    "        data = json.load(f)\n",
    "        # for key end with \"response\", clear the multiple \"\\n\" of its value, and save it.\n",
    "        for i in range(len(data)):\n",
    "            for key in data[i].keys():\n",
    "                if key.endswith(\"response\"):\n",
    "                    ans = data[i][key]\n",
    "                    ans = ans.strip().split(\"\\n\")\n",
    "                    ans = \"\\n\".join([_ for _ in ans if _])\n",
    "                    data[i][key] = ans\n",
    "        with open(f\"./new/{path}\", \"w\", encoding=\"utf-8\") as g:\n",
    "            json.dump(data, g, indent=2, ensure_ascii=False)"
   ]
  },
  {
   "cell_type": "code",
   "execution_count": 1,
   "metadata": {},
   "outputs": [],
   "source": [
    "import json\n",
    "\n",
    "path = \"./data\"\n",
    "# files = [\n",
    "    # \"BioASQ\",\n",
    "    # \"nfcorpus\",\n",
    "    # \"FiQA-2018\",\n",
    "    # \"SciFact\",\n",
    "    # \"LearningQ\",\n",
    "    # \"NaturalQuestions\",\n",
    "    # \"HotpotQA\",\n",
    "# ]\n",
    "with open(f\"{path}/Open-Domain.json\", \"r\", encoding=\"utf-8\") as f:\n",
    "    data = json.load(f)\n",
    "with open(f\"{path}/halueval.json\", \"r\", encoding=\"utf-8\") as f:\n",
    "    add = json.load(f)\n",
    "data.extend(add)\n",
    "for i in range(len(data)):\n",
    "    data[i][\"id\"] = i\n",
    "with open(f\"./data/Open-Domain.json\", \"w\", encoding=\"utf-8\") as g:\n",
    "    json.dump(data, g, indent=2, ensure_ascii=False)"
   ]
  },
  {
   "cell_type": "code",
   "execution_count": 1,
   "metadata": {},
   "outputs": [],
   "source": [
    "import json\n",
    "\n",
    "with open(\"./add/Open-Domain.json\", \"r\", encoding=\"utf-8\") as f:\n",
    "    data = json.load(f)\n",
    "data = sorted(data, key=lambda x: x[\"id\"])\n",
    "with open(\"./add/Open-Domain.json\", \"w\", encoding=\"utf-8\") as g:\n",
    "    json.dump(data, g, indent=2, ensure_ascii=False)"
   ]
  },
  {
   "cell_type": "code",
   "execution_count": 3,
   "metadata": {},
   "outputs": [
    {
     "name": "stdout",
     "output_type": "stream",
     "text": [
      "20\n"
     ]
    }
   ],
   "source": [
    "import json\n",
    "\n",
    "with open(\"../hallu/data/hallu_add/qa.json\", \"r\", encoding=\"utf-8\") as f:\n",
    "    data = [json.loads(line) for line in f.readlines()][:20]\n",
    "    print(len(data))\n",
    "    # json file\n",
    "    data = [\n",
    "        {\n",
    "            \"id\": i,\n",
    "            \"user_query\": data[i][\"question\"].strip(),\n",
    "        }\n",
    "        for i in range(len(data))\n",
    "    ]\n",
    "with open(\"./Open-Domain_demo.json\", \"w\", encoding=\"utf-8\") as f:\n",
    "    json.dump(data, f, indent=2, ensure_ascii=False)"
   ]
  },
  {
   "cell_type": "code",
   "execution_count": null,
   "metadata": {},
   "outputs": [],
   "source": [
    "import os\n",
    "import json\n",
    "from main import check_exist\n",
    "\n",
    "data_path = \"./data/\"\n",
    "add_path = \"./chatgpt_greedy/\"\n",
    "save_path = \"./update_chatgpt_top-p/\"\n",
    "for path in os.listdir(data_path):\n",
    "    if path in [\n",
    "        # \"Bio-Medical.json\",\n",
    "        # \"Finance.json\",\n",
    "        # \"Science.json\",\n",
    "        # \"Education.json\",\n",
    "        # \"Open-Domain.json\",\n",
    "    ]:\n",
    "        continue\n",
    "    with open(os.path.join(data_path, path), \"r\", encoding=\"utf-8\") as f:\n",
    "        data = json.load(f)\n",
    "    with open(os.path.join(add_path, path), \"r\", encoding=\"utf-8\") as f:\n",
    "        add = json.load(f)\n",
    "        ids = [i[\"id\"] for i in add]\n",
    "    print(len(set(ids)))    \n",
    "    # add = [i for i in data if i[\"id\"] not in ids]\n",
    "    # add = sorted(add, key=lambda x: x[\"id\"])\n",
    "    # check_exist(save_path)\n",
    "    # with open(os.path.join(save_path, path), \"w\", encoding=\"utf-8\") as g:\n",
    "    #     json.dump(add, g, indent=2, ensure_ascii=False)"
   ]
  },
  {
   "cell_type": "code",
   "execution_count": 2,
   "metadata": {},
   "outputs": [],
   "source": [
    "import os\n",
    "import json\n",
    "\n",
    "data_path = \"./update_chatgpt_top-p/\"\n",
    "for path in os.listdir(data_path):\n",
    "    with open(os.path.join(data_path, path), \"r\", encoding=\"utf-8\") as f:\n",
    "        data = json.load(f)\n",
    "    data = sorted(data, key=lambda x: x[\"id\"])\n",
    "    with open(os.path.join(data_path, path), \"w\", encoding=\"utf-8\") as g:\n",
    "        json.dump(data, g, indent=2, ensure_ascii=False)"
   ]
  },
  {
   "cell_type": "code",
   "execution_count": 3,
   "metadata": {},
   "outputs": [],
   "source": [
    "import os\n",
    "import json\n",
    "from main import check_exist\n",
    "\n",
    "file_lst = [\n",
    "    \"Bio-Medical\",\n",
    "    \"Finance\",\n",
    "    \"Science\",\n",
    "    \"Education\",\n",
    "    \"Open-Domain\",\n",
    "]\n",
    "path = \"./SFT/\"\n",
    "for sft_file in os.listdir(path):\n",
    "    if not sft_file.endswith(\".json\"):\n",
    "        continue\n",
    "    sft_type = sft_file.split(\"-\")[0]\n",
    "    save_path = os.path.join(path, sft_type)\n",
    "    check_exist(save_path)\n",
    "    with open(os.path.join(path, sft_file), \"r\", encoding=\"utf-8\") as f:\n",
    "        data = json.load(f)\n",
    "    for data_file in file_lst:\n",
    "        temp = [i for i in data if i[\"task\"] == data_file]\n",
    "        temp = [\n",
    "            {\n",
    "                \"id\": i[\"id\"],\n",
    "                \"user_query\": i[\"user_query\"],\n",
    "                \"llama-7b_response\": i[\"output\"],\n",
    "            }\n",
    "            for i in temp\n",
    "        ]\n",
    "        temp = sorted(temp, key=lambda x: x[\"id\"])\n",
    "        with open(\n",
    "            os.path.join(save_path, data_file + \".json\"), \"w\", encoding=\"utf-8\"\n",
    "        ) as g:\n",
    "            json.dump(temp, g, indent=2, ensure_ascii=False)"
   ]
  },
  {
   "cell_type": "code",
   "execution_count": 7,
   "metadata": {},
   "outputs": [],
   "source": [
    "import json\n",
    "import os\n",
    "\n",
    "data_dir = \"./claude-1/\"\n",
    "for path in os.listdir(data_dir):\n",
    "    data_path = os.path.join(data_dir, path)\n",
    "    with open(data_path, \"r\", encoding=\"utf-8\") as f:\n",
    "        data = [json.loads(line) for line in f.readlines()]\n",
    "    data = [\n",
    "        {\n",
    "            \"id\": data[i][\"id\"],\n",
    "            \"user_query\": data[i][\"user_query\"].strip(),\n",
    "            \"claude-1_response\": data[i][\"response\"].strip(),\n",
    "        }\n",
    "        for i in range(len(data))\n",
    "    ]\n",
    "    with open(data_path, \"w\", encoding=\"utf-8\") as f:\n",
    "        json.dump(data, f, indent=2, ensure_ascii=False)"
   ]
  },
  {
   "cell_type": "code",
   "execution_count": 3,
   "metadata": {},
   "outputs": [],
   "source": [
    "import json\n",
    "import os\n",
    "\n",
    "data_dir = \"./update_response/vicuna-7b/\"\n",
    "query_dir = \"./query/\"\n",
    "save_dir = \"./rlhf_data/vicuna-7b/\"\n",
    "for path in os.listdir(data_dir):\n",
    "    data_path = os.path.join(data_dir, path)\n",
    "    with open(data_path, \"r\", encoding=\"utf-8\") as f:\n",
    "        data = json.load(f)\n",
    "    query_path = os.path.join(query_dir, path)\n",
    "    with open(query_path, \"r\", encoding=\"utf-8\") as f:\n",
    "        query = json.load(f)\n",
    "    ids = [i[\"id\"] for i in query]\n",
    "    filtered_data = [i for i in data if i[\"id\"] not in ids]\n",
    "    filtered_data = sorted(filtered_data, key=lambda x: x[\"id\"])\n",
    "    save_path = os.path.join(save_dir, path)\n",
    "    with open(save_path, \"w\", encoding=\"utf-8\") as f:\n",
    "        json.dump(filtered_data, f, indent=2, ensure_ascii=False)"
   ]
  },
  {
   "cell_type": "code",
   "execution_count": 2,
   "metadata": {},
   "outputs": [],
   "source": [
    "import json\n",
    "import os\n",
    "from main import check_exist\n",
    "\n",
    "data_dir = \"./response/\"\n",
    "add_dir = \"./add/\"\n",
    "for path in os.listdir(data_dir):\n",
    "    for file in os.listdir(os.path.join(data_dir, path)):\n",
    "        data_path = os.path.join(data_dir, path, file)\n",
    "        with open(data_path, \"r\", encoding=\"utf-8\") as f:\n",
    "            data = json.load(f)\n",
    "        key = [i for i in list(data[0].keys()) if i.endswith(\"response\")][0]\n",
    "        add = [i for i in data if not i[key]]\n",
    "        # delete key for elements in add list\n",
    "        for i in range(len(add)):\n",
    "            del add[i][key]\n",
    "        check_exist(os.path.join(add_dir, path))\n",
    "        add_path = os.path.join(add_dir, path, file)\n",
    "        with open(add_path, \"w\", encoding=\"utf-8\") as f:\n",
    "            json.dump(add, f, indent=2, ensure_ascii=False)"
   ]
  },
  {
   "cell_type": "code",
   "execution_count": null,
   "metadata": {},
   "outputs": [],
   "source": [
    "import json\n",
    "import os\n",
    "from main import check_exist\n",
    "\n",
    "data_dir = \"./response/\"\n",
    "add_dir = \"./add_response/\"\n",
    "save_dir = \"./update_response/\"\n",
    "for path in os.listdir(add_dir):\n",
    "    for file in os.listdir(os.path.join(add_dir, path)):\n",
    "        add_path = os.path.join(add_dir, path, file)\n",
    "        with open(add_path, \"r\", encoding=\"utf-8\") as f:\n",
    "            add = json.load(f)\n",
    "        data_path = os.path.join(data_dir, path, file)\n",
    "        with open(data_path, \"r\", encoding=\"utf-8\") as f:\n",
    "            data = json.load(f)\n",
    "        key = [i for i in list(data[0].keys()) if i.endswith(\"response\")][0]\n",
    "        data = [i for i in data if i[key]]\n",
    "        data.extend(add)\n",
    "        data = sorted(data, key=lambda x: x[\"id\"])\n",
    "        check_exist(os.path.join(save_dir, path))\n",
    "        save_path = os.path.join(save_dir, path, file)\n",
    "        with open(save_path, \"w\", encoding=\"utf-8\") as f:\n",
    "            json.dump(data, f, indent=2, ensure_ascii=False)"
   ]
  },
  {
   "cell_type": "code",
   "execution_count": 2,
   "metadata": {},
   "outputs": [
    {
     "name": "stdout",
     "output_type": "stream",
     "text": [
      "111\n",
      "111\n",
      "111\n"
     ]
    },
    {
     "ename": "FunctionTimedOut",
     "evalue": "Function a (args=()) (kwargs={}) timed out after 2.500000 seconds.\n",
     "output_type": "error",
     "traceback": [
      "\u001b[0;31m---------------------------------------------------------------------------\u001b[0m",
      "\u001b[0;31mFunctionTimedOut\u001b[0m                          Traceback (most recent call last)",
      "\u001b[1;32m/home/chenjie/Project/data-code/preprocess.ipynb 单元格 17\u001b[0m line \u001b[0;36m1\n\u001b[1;32m      <a href='vscode-notebook-cell://ssh-remote%2Bchenjie/home/chenjie/Project/data-code/preprocess.ipynb#X22sdnNjb2RlLXJlbW90ZQ%3D%3D?line=6'>7</a>\u001b[0m         time\u001b[39m.\u001b[39msleep(\u001b[39m0.7\u001b[39m)\n\u001b[1;32m      <a href='vscode-notebook-cell://ssh-remote%2Bchenjie/home/chenjie/Project/data-code/preprocess.ipynb#X22sdnNjb2RlLXJlbW90ZQ%3D%3D?line=7'>8</a>\u001b[0m         \u001b[39mprint\u001b[39m(\u001b[39m111\u001b[39m)\n\u001b[0;32m---> <a href='vscode-notebook-cell://ssh-remote%2Bchenjie/home/chenjie/Project/data-code/preprocess.ipynb#X22sdnNjb2RlLXJlbW90ZQ%3D%3D?line=9'>10</a>\u001b[0m a()\n",
      "File \u001b[0;32m~/anaconda3/lib/python3.11/site-packages/func_timeout/dafunc.py:185\u001b[0m, in \u001b[0;36mfunc_set_timeout.<locals>._function_decorator.<locals>.<lambda>\u001b[0;34m(*args, **kwargs)\u001b[0m\n\u001b[1;32m    183\u001b[0m \u001b[39mdef\u001b[39;00m \u001b[39m_function_decorator\u001b[39m(func):\n\u001b[0;32m--> 185\u001b[0m     \u001b[39mreturn\u001b[39;00m wraps(func)(\u001b[39mlambda\u001b[39;00m \u001b[39m*\u001b[39margs, \u001b[39m*\u001b[39m\u001b[39m*\u001b[39mkwargs : func_timeout(defaultTimeout, func, args\u001b[39m=\u001b[39margs, kwargs\u001b[39m=\u001b[39mkwargs))\n",
      "File \u001b[0;32m~/anaconda3/lib/python3.11/site-packages/func_timeout/dafunc.py:101\u001b[0m, in \u001b[0;36mfunc_timeout\u001b[0;34m(timeout, func, args, kwargs)\u001b[0m\n\u001b[1;32m     99\u001b[0m     thread\u001b[39m.\u001b[39m_stopThread(stopException)\n\u001b[1;32m    100\u001b[0m     thread\u001b[39m.\u001b[39mjoin(\u001b[39mmin\u001b[39m(\u001b[39m.1\u001b[39m, timeout \u001b[39m/\u001b[39m \u001b[39m50.0\u001b[39m))\n\u001b[0;32m--> 101\u001b[0m     \u001b[39mraise\u001b[39;00m FunctionTimedOut(\u001b[39m'\u001b[39m\u001b[39m'\u001b[39m, timeout, func, args, kwargs)\n\u001b[1;32m    102\u001b[0m \u001b[39melse\u001b[39;00m:\n\u001b[1;32m    103\u001b[0m     \u001b[39m# We can still cleanup the thread here..\u001b[39;00m\n\u001b[1;32m    104\u001b[0m     \u001b[39m# Still give a timeout... just... cuz..\u001b[39;00m\n\u001b[1;32m    105\u001b[0m     thread\u001b[39m.\u001b[39mjoin(\u001b[39m.5\u001b[39m)\n",
      "\u001b[0;31mFunctionTimedOut\u001b[0m: Function a (args=()) (kwargs={}) timed out after 2.500000 seconds.\n"
     ]
    }
   ],
   "source": [
    "import time\n",
    "from func_timeout import func_set_timeout\n",
    "\n",
    "@func_set_timeout(2.5)\n",
    "def a():\n",
    "    while 1:\n",
    "        time.sleep(0.7)\n",
    "        print(111)\n",
    "\n",
    "a()"
   ]
  }
 ],
 "metadata": {
  "kernelspec": {
   "display_name": "base",
   "language": "python",
   "name": "python3"
  },
  "language_info": {
   "codemirror_mode": {
    "name": "ipython",
    "version": 3
   },
   "file_extension": ".py",
   "mimetype": "text/x-python",
   "name": "python",
   "nbconvert_exporter": "python",
   "pygments_lexer": "ipython3",
   "version": "3.11.5"
  }
 },
 "nbformat": 4,
 "nbformat_minor": 2
}
