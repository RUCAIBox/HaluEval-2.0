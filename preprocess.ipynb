{
 "cells": [
  {
   "cell_type": "code",
   "execution_count": 4,
   "metadata": {},
   "outputs": [
    {
     "name": "stdout",
     "output_type": "stream",
     "text": [
      "Current model:  llama-2-13b-chat-hf\n"
     ]
    },
    {
     "name": "stderr",
     "output_type": "stream",
     "text": [
      "100%|█████████████████████████████████████████████████████████| 567/567 [00:00<00:00, 846323.97it/s]"
     ]
    },
    {
     "name": "stderr",
     "output_type": "stream",
     "text": [
      "\n",
      "100%|██████████████████████████████████████████████████████| 1535/1535 [00:00<00:00, 1353427.93it/s]\n",
      "100%|██████████████████████████████████████████████████████| 1125/1125 [00:00<00:00, 1317306.53it/s]\n",
      "100%|██████████████████████████████████████████████████████| 1409/1409 [00:00<00:00, 1322688.97it/s]\n"
     ]
    },
    {
     "name": "stdout",
     "output_type": "stream",
     "text": [
      "Current model:  llama-2-7b-chat-hf\n"
     ]
    },
    {
     "name": "stderr",
     "output_type": "stream",
     "text": [
      "100%|████████████████████████████████████████████████████████| 547/547 [00:00<00:00, 1164611.31it/s]\n",
      "100%|██████████████████████████████████████████████████████| 1535/1535 [00:00<00:00, 1328571.32it/s]\n",
      "100%|██████████████████████████████████████████████████████| 1125/1125 [00:00<00:00, 1809276.07it/s]\n",
      "100%|██████████████████████████████████████████████████████| 1409/1409 [00:00<00:00, 2035046.26it/s]\n"
     ]
    },
    {
     "name": "stdout",
     "output_type": "stream",
     "text": [
      "Current model:  alpaca-7b\n"
     ]
    },
    {
     "name": "stderr",
     "output_type": "stream",
     "text": [
      "100%|██████████████████████████████████████████████████████| 2125/2125 [00:00<00:00, 2048000.00it/s]\n",
      "100%|██████████████████████████████████████████████████████| 1701/1701 [00:00<00:00, 2061997.43it/s]\n",
      "100%|██████████████████████████████████████████████████████| 1535/1535 [00:00<00:00, 2207150.03it/s]\n",
      "100%|██████████████████████████████████████████████████████| 1125/1125 [00:00<00:00, 2208044.92it/s]\n",
      "100%|██████████████████████████████████████████████████████| 1409/1409 [00:00<00:00, 2201853.33it/s]\n"
     ]
    },
    {
     "name": "stdout",
     "output_type": "stream",
     "text": [
      "Current model:  vicuna-13b\n"
     ]
    },
    {
     "name": "stderr",
     "output_type": "stream",
     "text": [
      "100%|████████████████████████████████████████████████████████| 981/981 [00:00<00:00, 1915555.04it/s]\n",
      "100%|██████████████████████████████████████████████████████| 1535/1535 [00:00<00:00, 2101258.69it/s]\n",
      "100%|██████████████████████████████████████████████████████| 1125/1125 [00:00<00:00, 2098084.48it/s]\n",
      "100%|██████████████████████████████████████████████████████| 1409/1409 [00:00<00:00, 2025976.80it/s]\n"
     ]
    },
    {
     "name": "stdout",
     "output_type": "stream",
     "text": [
      "Current model:  text-davinci-003\n"
     ]
    },
    {
     "name": "stderr",
     "output_type": "stream",
     "text": [
      "100%|██████████████████████████████████████████████████████| 1153/1153 [00:00<00:00, 1950799.72it/s]\n",
      "100%|██████████████████████████████████████████████████████| 1535/1535 [00:00<00:00, 2251138.69it/s]\n",
      "100%|██████████████████████████████████████████████████████| 1125/1125 [00:00<00:00, 2006204.08it/s]\n",
      "100%|██████████████████████████████████████████████████████| 1409/1409 [00:00<00:00, 2135805.69it/s]\n"
     ]
    },
    {
     "name": "stdout",
     "output_type": "stream",
     "text": [
      "Current model:  vicuna-7b\n"
     ]
    },
    {
     "name": "stderr",
     "output_type": "stream",
     "text": [
      "100%|████████████████████████████████████████████████████████| 998/998 [00:00<00:00, 1725439.16it/s]\n",
      "100%|██████████████████████████████████████████████████████| 1535/1535 [00:00<00:00, 2162665.99it/s]\n",
      "100%|██████████████████████████████████████████████████████| 1125/1125 [00:00<00:00, 1953059.60it/s]\n",
      "100%|██████████████████████████████████████████████████████| 1409/1409 [00:00<00:00, 1903308.96it/s]\n"
     ]
    },
    {
     "name": "stdout",
     "output_type": "stream",
     "text": [
      "Current model:  chatgpt\n"
     ]
    },
    {
     "name": "stderr",
     "output_type": "stream",
     "text": [
      "100%|████████████████████████████████████████████████████████| 655/655 [00:00<00:00, 1881691.18it/s]\n",
      "100%|██████████████████████████████████████████████████████| 1535/1535 [00:00<00:00, 2062882.61it/s]\n",
      "100%|██████████████████████████████████████████████████████| 1125/1125 [00:00<00:00, 2049779.32it/s]\n",
      "100%|██████████████████████████████████████████████████████| 1409/1409 [00:00<00:00, 1902696.18it/s]\n"
     ]
    },
    {
     "name": "stdout",
     "output_type": "stream",
     "text": [
      "Current model:  text-davinci-002\n"
     ]
    },
    {
     "name": "stderr",
     "output_type": "stream",
     "text": [
      "100%|██████████████████████████████████████████████████████| 2356/2356 [00:00<00:00, 1874744.87it/s]\n",
      "100%|██████████████████████████████████████████████████████| 1701/1701 [00:00<00:00, 2050736.16it/s]\n",
      "100%|██████████████████████████████████████████████████████| 1535/1535 [00:00<00:00, 2291194.53it/s]\n",
      "100%|██████████████████████████████████████████████████████| 1125/1125 [00:00<00:00, 2220513.88it/s]\n",
      "100%|██████████████████████████████████████████████████████| 1409/1409 [00:00<00:00, 2350745.56it/s]\n"
     ]
    }
   ],
   "source": [
    "import os\n",
    "import json\n",
    "from tqdm import tqdm\n",
    "\n",
    "path_dir = \"./fact/\"\n",
    "for model in os.listdir(path_dir):\n",
    "    print(\"Current model: \", model)\n",
    "    for path in os.listdir(os.path.join(path_dir, model)):\n",
    "        data_path = os.path.join(path_dir, model, path)\n",
    "        with open(data_path, 'r', encoding=\"utf-8\") as f:\n",
    "            data = json.load(f)\n",
    "        for i in tqdm(range(len(data)), ncols=100):\n",
    "            if data[i][model + \"_fact_raw\"].startswith(\"The factual statement is:\") and \"\\n\" not in data[i][model + \"_fact_raw\"] and len(data[i][model + \"_fact\"]) == 0:\n",
    "                data[i][model + \"_fact\"] = data[i][model + \"_fact_raw\"].replace(\"The factual statement is:\", \"\").strip()\n",
    "        with open(data_path, 'w', encoding=\"utf-8\") as f:\n",
    "            json.dump(data, f, indent=2, ensure_ascii=False)\n",
    "            "
   ]
  },
  {
   "cell_type": "code",
   "execution_count": 4,
   "metadata": {},
   "outputs": [
    {
     "name": "stdout",
     "output_type": "stream",
     "text": [
      "1494\n"
     ]
    }
   ],
   "source": [
    "import json\n",
    "import random\n",
    "random.seed(42)\n",
    "\n",
    "with open(\"./tmp/v1.0-simplified-nq-dev-all.jsonl\", \"r\", encoding=\"utf-8\") as f:\n",
    "    data = [json.loads(line) for line in f.readlines()]\n",
    "    print(len(data))\n",
    "    # dict: id, question\n",
    "    data = [\n",
    "        {\n",
    "            \"id\": i,\n",
    "            \"user_query\": data[i][\"question_text\"],\n",
    "        }\n",
    "        for i in range(len(data))\n",
    "    ]\n",
    "    with open(\"./data/NaturalQuestions.json\", \"w\", encoding=\"utf-8\") as g:\n",
    "        json.dump(data, g, indent=2, ensure_ascii=False)\n",
    "        \n",
    "    data = random.sample(data, 100)\n",
    "    data = sorted(data, key=lambda x: x[\"id\"])\n",
    "    \n",
    "    with open(\"./NaturalQuestions.json\", \"w\", encoding=\"utf-8\") as g:\n",
    "        json.dump(data, g, indent=2, ensure_ascii=False)"
   ]
  },
  {
   "cell_type": "code",
   "execution_count": 2,
   "metadata": {},
   "outputs": [],
   "source": [
    "import json\n",
    "\n",
    "with open(\"./tmp/LearningQ/data/experiments/teded/tgt-test.txt\", \"r\", encoding=\"utf-8\") as f:\n",
    "    data = [line.strip() for line in f.readlines()]\n",
    "    data = [i for i in data if i.endswith(\"?\")]\n",
    "    data = [\n",
    "        {\n",
    "            \"id\": i,\n",
    "            \"user_query\": data[i],\n",
    "        }\n",
    "        for i in range(len(data))\n",
    "    ]\n",
    "    with open(\"./LearningQ.json\", \"w\", encoding=\"utf-8\") as g:\n",
    "        json.dump(data, g, indent=2, ensure_ascii=False)"
   ]
  },
  {
   "cell_type": "code",
   "execution_count": 2,
   "metadata": {},
   "outputs": [],
   "source": [
    "import json\n",
    "\n",
    "model = \"vicuna-13b\"\n",
    "files = [\n",
    "            \"BioASQ\",\n",
    "            \"nfcorpus\",\n",
    "            \"FiQA-2018\",\n",
    "            \"SciFact\",\n",
    "            \"LearningQ\",\n",
    "            \"NaturalQuestions\",\n",
    "            \"HotpotQA\",\n",
    "        ]\n",
    "\n",
    "for file in files:\n",
    "\n",
    "    with open(f\"./{model}/{file}.json\", \"r\", encoding=\"utf-8\") as f:\n",
    "        add = json.load(f)\n",
    "    with open(f\"./data/{file}.json\", \"r\", encoding=\"utf-8\") as f:\n",
    "        data = json.load(f)\n",
    "\n",
    "    for i in range(len(data)):\n",
    "        data[i][f\"{model}_response\"] = add[i][f\"{model}_response\"]\n",
    "\n",
    "    with open(f\"./data/{file}_.json\", \"w\", encoding=\"utf-8\") as g:\n",
    "        json.dump(data, g, indent=2, ensure_ascii=False)"
   ]
  },
  {
   "cell_type": "code",
   "execution_count": 4,
   "metadata": {},
   "outputs": [
    {
     "name": "stdout",
     "output_type": "stream",
     "text": [
      "5235\n"
     ]
    }
   ],
   "source": [
    "with open(\"./data/SciFact_add.json\", \"r\", encoding=\"utf-8\") as f:\n",
    "    data = json.load(f)\n",
    "    print(len(data))\n",
    "    data = [\n",
    "        {\n",
    "            \"id\": i,\n",
    "            \"user_query\": data[i][\"user_query\"],\n",
    "            \"chatgpt_response\": data[i][\"chatgpt_response\"],\n",
    "            \"text-davinci-002_response\": data[i][\"text-davinci-002_response\"],\n",
    "            \"text-davinci-003_response\": data[i][\"text-davinci-003_response\"],\n",
    "            \"llama-2-7b-chat-hf_response\": data[i][\"llama-2-7b-chat-hf_response\"],\n",
    "            \"llama-2-13b-chat-hf_response\": data[i][\"llama-2-13b-chat-hf_response\"],\n",
    "            \"alpaca-7b_response\": data[i][\"alpaca-7b_response\"],\n",
    "        }\n",
    "        for i in range(len(data))\n",
    "    ]\n",
    "    with open(\"./data/SciFact_add_.json\", \"w\", encoding=\"utf-8\") as g:\n",
    "        json.dump(data, g, indent=2, ensure_ascii=False)"
   ]
  },
  {
   "cell_type": "code",
   "execution_count": 1,
   "metadata": {},
   "outputs": [],
   "source": [
    "# read judge_part files\n",
    "import json\n",
    "import os\n",
    "\n",
    "for path in os.listdir(\"./judge_part\"):\n",
    "    with open(f\"./judge_part/{path}\", \"r\", encoding=\"utf-8\") as f:\n",
    "        data = json.load(f)\n",
    "        data = sorted(data, key=lambda x: x[\"id\"])\n",
    "        with open(f\"./judge_part/{path}_\", \"w\", encoding=\"utf-8\") as g:\n",
    "            json.dump(data, g, indent=2, ensure_ascii=False)"
   ]
  },
  {
   "cell_type": "code",
   "execution_count": null,
   "metadata": {},
   "outputs": [],
   "source": [
    "import os\n",
    "import json\n",
    "\n",
    "for path in os.listdir(\"./data\"):\n",
    "    with open(f\"./data/{path}\", \"r\", encoding=\"utf-8\") as f:\n",
    "        data = json.load(f)\n",
    "        # for key end with \"response\", clear the multiple \"\\n\" of its value, and save it.\n",
    "        for i in range(len(data)):\n",
    "            for key in data[i].keys():\n",
    "                if key.endswith(\"response\"):\n",
    "                    ans = data[i][key]\n",
    "                    ans = ans.strip().split(\"\\n\")\n",
    "                    ans = \"\\n\".join([_ for _ in ans if _])\n",
    "                    data[i][key] = ans\n",
    "        with open(f\"./new/{path}\", \"w\", encoding=\"utf-8\") as g:\n",
    "            json.dump(data, g, indent=2, ensure_ascii=False)"
   ]
  },
  {
   "cell_type": "code",
   "execution_count": 1,
   "metadata": {},
   "outputs": [],
   "source": [
    "import json\n",
    "\n",
    "path = \"./data\"\n",
    "# files = [\n",
    "    # \"BioASQ\",\n",
    "    # \"nfcorpus\",\n",
    "    # \"FiQA-2018\",\n",
    "    # \"SciFact\",\n",
    "    # \"LearningQ\",\n",
    "    # \"NaturalQuestions\",\n",
    "    # \"HotpotQA\",\n",
    "# ]\n",
    "with open(f\"{path}/Open-Domain.json\", \"r\", encoding=\"utf-8\") as f:\n",
    "    data = json.load(f)\n",
    "with open(f\"{path}/halueval.json\", \"r\", encoding=\"utf-8\") as f:\n",
    "    add = json.load(f)\n",
    "data.extend(add)\n",
    "for i in range(len(data)):\n",
    "    data[i][\"id\"] = i\n",
    "with open(f\"./data/Open-Domain.json\", \"w\", encoding=\"utf-8\") as g:\n",
    "    json.dump(data, g, indent=2, ensure_ascii=False)"
   ]
  },
  {
   "cell_type": "code",
   "execution_count": 1,
   "metadata": {},
   "outputs": [],
   "source": [
    "import json\n",
    "\n",
    "with open(\"./add/Open-Domain.json\", \"r\", encoding=\"utf-8\") as f:\n",
    "    data = json.load(f)\n",
    "data = sorted(data, key=lambda x: x[\"id\"])\n",
    "with open(\"./add/Open-Domain.json\", \"w\", encoding=\"utf-8\") as g:\n",
    "    json.dump(data, g, indent=2, ensure_ascii=False)"
   ]
  },
  {
   "cell_type": "code",
   "execution_count": 3,
   "metadata": {},
   "outputs": [
    {
     "name": "stdout",
     "output_type": "stream",
     "text": [
      "20\n"
     ]
    }
   ],
   "source": [
    "import json\n",
    "\n",
    "with open(\"../hallu/data/hallu_add/qa.json\", \"r\", encoding=\"utf-8\") as f:\n",
    "    data = [json.loads(line) for line in f.readlines()][:20]\n",
    "    print(len(data))\n",
    "    # json file\n",
    "    data = [\n",
    "        {\n",
    "            \"id\": i,\n",
    "            \"user_query\": data[i][\"question\"].strip(),\n",
    "        }\n",
    "        for i in range(len(data))\n",
    "    ]\n",
    "with open(\"./Open-Domain_demo.json\", \"w\", encoding=\"utf-8\") as f:\n",
    "    json.dump(data, f, indent=2, ensure_ascii=False)"
   ]
  },
  {
   "cell_type": "code",
   "execution_count": null,
   "metadata": {},
   "outputs": [],
   "source": [
    "import os\n",
    "import json\n",
    "from main import check_exist\n",
    "\n",
    "data_path = \"./data/\"\n",
    "add_path = \"./chatgpt_greedy/\"\n",
    "save_path = \"./update_chatgpt_top-p/\"\n",
    "for path in os.listdir(data_path):\n",
    "    if path in [\n",
    "        # \"Bio-Medical.json\",\n",
    "        # \"Finance.json\",\n",
    "        # \"Science.json\",\n",
    "        # \"Education.json\",\n",
    "        # \"Open-Domain.json\",\n",
    "    ]:\n",
    "        continue\n",
    "    with open(os.path.join(data_path, path), \"r\", encoding=\"utf-8\") as f:\n",
    "        data = json.load(f)\n",
    "    with open(os.path.join(add_path, path), \"r\", encoding=\"utf-8\") as f:\n",
    "        add = json.load(f)\n",
    "        ids = [i[\"id\"] for i in add]\n",
    "    print(len(set(ids)))    \n",
    "    # add = [i for i in data if i[\"id\"] not in ids]\n",
    "    # add = sorted(add, key=lambda x: x[\"id\"])\n",
    "    # check_exist(save_path)\n",
    "    # with open(os.path.join(save_path, path), \"w\", encoding=\"utf-8\") as g:\n",
    "    #     json.dump(add, g, indent=2, ensure_ascii=False)"
   ]
  },
  {
   "cell_type": "code",
   "execution_count": 2,
   "metadata": {},
   "outputs": [],
   "source": [
    "import os\n",
    "import json\n",
    "\n",
    "data_path = \"./update_chatgpt_top-p/\"\n",
    "for path in os.listdir(data_path):\n",
    "    with open(os.path.join(data_path, path), \"r\", encoding=\"utf-8\") as f:\n",
    "        data = json.load(f)\n",
    "    data = sorted(data, key=lambda x: x[\"id\"])\n",
    "    with open(os.path.join(data_path, path), \"w\", encoding=\"utf-8\") as g:\n",
    "        json.dump(data, g, indent=2, ensure_ascii=False)"
   ]
  },
  {
   "cell_type": "code",
   "execution_count": 3,
   "metadata": {},
   "outputs": [],
   "source": [
    "import os\n",
    "import json\n",
    "from main import check_exist\n",
    "\n",
    "file_lst = [\n",
    "    \"Bio-Medical\",\n",
    "    \"Finance\",\n",
    "    \"Science\",\n",
    "    \"Education\",\n",
    "    \"Open-Domain\",\n",
    "]\n",
    "path = \"./SFT/\"\n",
    "for sft_file in os.listdir(path):\n",
    "    if not sft_file.endswith(\".json\"):\n",
    "        continue\n",
    "    sft_type = sft_file.split(\"-\")[0]\n",
    "    save_path = os.path.join(path, sft_type)\n",
    "    check_exist(save_path)\n",
    "    with open(os.path.join(path, sft_file), \"r\", encoding=\"utf-8\") as f:\n",
    "        data = json.load(f)\n",
    "    for data_file in file_lst:\n",
    "        temp = [i for i in data if i[\"task\"] == data_file]\n",
    "        temp = [\n",
    "            {\n",
    "                \"id\": i[\"id\"],\n",
    "                \"user_query\": i[\"user_query\"],\n",
    "                \"llama-7b_response\": i[\"output\"],\n",
    "            }\n",
    "            for i in temp\n",
    "        ]\n",
    "        temp = sorted(temp, key=lambda x: x[\"id\"])\n",
    "        with open(\n",
    "            os.path.join(save_path, data_file + \".json\"), \"w\", encoding=\"utf-8\"\n",
    "        ) as g:\n",
    "            json.dump(temp, g, indent=2, ensure_ascii=False)"
   ]
  },
  {
   "cell_type": "code",
   "execution_count": 12,
   "metadata": {},
   "outputs": [],
   "source": [
    "import json\n",
    "import os\n",
    "\n",
    "CUR = 0\n",
    "# json line data\n",
    "data_dir = \"./prompt_result/self_reflexion/70b_raw/\"\n",
    "if CUR:\n",
    "    model = \"chatgpt\"\n",
    "else:\n",
    "    model = \"llama-2-70b-chat-hf\"\n",
    "for path in os.listdir(data_dir):\n",
    "    data_path = os.path.join(data_dir, path)\n",
    "    with open(data_path, \"r\", encoding=\"utf-8\") as f:\n",
    "        if CUR:\n",
    "            data = [json.loads(line) for line in f.readlines()]\n",
    "        else:\n",
    "            data = json.load(f)\n",
    "    data = [\n",
    "        {\n",
    "            \"id\": data[i][\"id\"],\n",
    "            \"user_query\": data[i][\"user_query\"].strip(),\n",
    "            model + \"_response\": data[i][model + \"_response\"].strip(),\n",
    "        }\n",
    "        for i in range(len(data))\n",
    "    ]\n",
    "    data = sorted(data, key=lambda x: x[\"id\"])\n",
    "    with open(data_path, \"w\", encoding=\"utf-8\") as f:\n",
    "        json.dump(data, f, indent=2, ensure_ascii=False)"
   ]
  },
  {
   "cell_type": "code",
   "execution_count": 16,
   "metadata": {},
   "outputs": [],
   "source": [
    "import json\n",
    "import os\n",
    "\n",
    "data_dir = \"./prompt_result/prompt_format/search_demo/chatgpt/\"\n",
    "query_dir = \"./prompt_result/prompt_format/generate_demo/chatgpt/\"\n",
    "for path in os.listdir(data_dir):\n",
    "    data_path = os.path.join(data_dir, path)\n",
    "    with open(data_path, \"r\", encoding=\"utf-8\") as f:\n",
    "        data = json.load(f)\n",
    "    query_path = os.path.join(query_dir, path)\n",
    "    with open(query_path, \"r\", encoding=\"utf-8\") as f:\n",
    "        query = json.load(f)\n",
    "    ids = [i[\"id\"] for i in query]\n",
    "    data = [\n",
    "        {\n",
    "            \"id\": ids[i],\n",
    "            \"user_query\": data[i][\"user_query\"].strip(),\n",
    "            \"chatgpt_response\": data[i][\"chatgpt_response\"].strip(),\n",
    "        }\n",
    "        for i in range(len(data))\n",
    "    ]\n",
    "    with open(data_path, \"w\", encoding=\"utf-8\") as f:\n",
    "        json.dump(data, f, indent=2, ensure_ascii=False)"
   ]
  },
  {
   "cell_type": "code",
   "execution_count": null,
   "metadata": {},
   "outputs": [],
   "source": [
    "# update code\n",
    "import json\n",
    "import os\n",
    "\n",
    "def process_data_in_folder(folder_path):\n",
    "    for root, dirs, files in os.walk(folder_path):\n",
    "        for filename in files:\n",
    "            file_path = os.path.join(root, filename)\n",
    "            if file_path.endswith('.json'):  # 只处理json文件\n",
    "                with open(file_path, \"r\", encoding=\"utf-8\") as f:\n",
    "                    data = [json.loads(line) for line in f.readlines()]\n",
    "                data = [\n",
    "                    {\n",
    "                        \"id\": data[i][\"id\"],\n",
    "                        \"user_query\": data[i][\"user_query\"].strip(),\n",
    "                        \"claude-1_response\": data[i][\"response\"].strip(),\n",
    "                    }\n",
    "                    for i in range(len(data))\n",
    "                ]\n",
    "                with open(file_path, \"w\", encoding=\"utf-8\") as f:\n",
    "                    json.dump(data, f, indent=2, ensure_ascii=False)\n",
    "\n",
    "# 遍历指定文件夹下的所有文件夹并处理数据\n",
    "data_folder = \"./prompt_result_copy/\"\n",
    "for folder in os.listdir(data_folder):\n",
    "    folder_path = os.path.join(data_folder, folder)\n",
    "    if os.path.isdir(folder_path):\n",
    "        process_data_in_folder(folder_path)"
   ]
  },
  {
   "cell_type": "code",
   "execution_count": 4,
   "metadata": {},
   "outputs": [],
   "source": [
    "import json\n",
    "import os\n",
    "\n",
    "data_dir = \"./task/response/vicuna-13b/\"\n",
    "query_dir = \"./annotation/query/\"\n",
    "save_dir = \"./task/RLHF/rlhf_data/vicuna-13b/\"\n",
    "for path in os.listdir(data_dir):\n",
    "    data_path = os.path.join(data_dir, path)\n",
    "    with open(data_path, \"r\", encoding=\"utf-8\") as f:\n",
    "        data = json.load(f)\n",
    "    query_path = os.path.join(query_dir, path)\n",
    "    with open(query_path, \"r\", encoding=\"utf-8\") as f:\n",
    "        query = json.load(f)\n",
    "    ids = [i[\"id\"] for i in query]\n",
    "    filtered_data = [i for i in data if i[\"id\"] not in ids]\n",
    "    filtered_data = sorted(filtered_data, key=lambda x: x[\"id\"])\n",
    "    save_path = os.path.join(save_dir, path)\n",
    "    with open(save_path, \"w\", encoding=\"utf-8\") as f:\n",
    "        json.dump(filtered_data, f, indent=2, ensure_ascii=False)"
   ]
  },
  {
   "cell_type": "code",
   "execution_count": 2,
   "metadata": {},
   "outputs": [],
   "source": [
    "import json\n",
    "import os\n",
    "from main import check_exist\n",
    "\n",
    "data_dir = \"./response/\"\n",
    "add_dir = \"./add/\"\n",
    "for path in os.listdir(data_dir):\n",
    "    for file in os.listdir(os.path.join(data_dir, path)):\n",
    "        data_path = os.path.join(data_dir, path, file)\n",
    "        with open(data_path, \"r\", encoding=\"utf-8\") as f:\n",
    "            data = json.load(f)\n",
    "        key = [i for i in list(data[0].keys()) if i.endswith(\"response\")][0]\n",
    "        add = [i for i in data if not i[key]]\n",
    "        # delete key for elements in add list\n",
    "        for i in range(len(add)):\n",
    "            del add[i][key]\n",
    "        check_exist(os.path.join(add_dir, path))\n",
    "        add_path = os.path.join(add_dir, path, file)\n",
    "        with open(add_path, \"w\", encoding=\"utf-8\") as f:\n",
    "            json.dump(add, f, indent=2, ensure_ascii=False)"
   ]
  },
  {
   "cell_type": "code",
   "execution_count": null,
   "metadata": {},
   "outputs": [],
   "source": [
    "import json\n",
    "import os\n",
    "from main import check_exist\n",
    "\n",
    "data_dir = \"./response/\"\n",
    "add_dir = \"./\"\n",
    "save_dir = \"./update_response/\"\n",
    "for path in os.listdir(add_dir):\n",
    "    for file in os.listdir(os.path.join(add_dir, path)):\n",
    "        add_path = os.path.join(add_dir, path, file)\n",
    "        with open(add_path, \"r\", encoding=\"utf-8\") as f:\n",
    "            add = json.load(f)\n",
    "        data_path = os.path.join(data_dir, path, file)\n",
    "        with open(data_path, \"r\", encoding=\"utf-8\") as f:\n",
    "            data = json.load(f)\n",
    "        key = [i for i in list(data[0].keys()) if i.endswith(\"response\")][0]\n",
    "        data = [i for i in data if i[key]]\n",
    "        data.extend(add)\n",
    "        data = sorted(data, key=lambda x: x[\"id\"])\n",
    "        check_exist(os.path.join(save_dir, path))\n",
    "        save_path = os.path.join(save_dir, path, file)\n",
    "        with open(save_path, \"w\", encoding=\"utf-8\") as f:\n",
    "            json.dump(data, f, indent=2, ensure_ascii=False)"
   ]
  },
  {
   "cell_type": "code",
   "execution_count": null,
   "metadata": {},
   "outputs": [],
   "source": [
    "import json\n",
    "import os\n",
    "from main import check_exist\n",
    "\n",
    "data_dir = \"./judge/\"\n",
    "add_dir = \"./all_data/add_judge/\"\n",
    "save_dir = \"./update_judge/\"\n",
    "for path in os.listdir(add_dir):\n",
    "    for file in os.listdir(os.path.join(add_dir, path)):\n",
    "        add_path = os.path.join(add_dir, path, file)\n",
    "        with open(add_path, \"r\", encoding=\"utf-8\") as f:\n",
    "            add = json.load(f)\n",
    "        data_path = os.path.join(data_dir, path, file)\n",
    "        with open(data_path, \"r\", encoding=\"utf-8\") as f:\n",
    "            data = json.load(f)\n",
    "        key = [i for i in list(data[0].keys()) if i.endswith(\"response\")][0]\n",
    "        data = [i for i in data if i[key]]\n",
    "        data.extend(add)\n",
    "        data = sorted(data, key=lambda x: x[\"id\"])\n",
    "        check_exist(os.path.join(save_dir, path))\n",
    "        save_path = os.path.join(save_dir, path, file)\n",
    "        with open(save_path, \"w\", encoding=\"utf-8\") as f:\n",
    "            json.dump(data, f, indent=2, ensure_ascii=False)"
   ]
  },
  {
   "cell_type": "code",
   "execution_count": null,
   "metadata": {},
   "outputs": [],
   "source": [
    "import time\n",
    "import func_timeout\n",
    "from func_timeout import func_set_timeout\n",
    "\n",
    "def b():\n",
    "    while 1:\n",
    "        time.sleep(0.2)\n",
    "        print(222)\n",
    "\n",
    "@func_set_timeout(2.5)\n",
    "def a():\n",
    "    b()\n",
    "    while 1:\n",
    "        time.sleep(0.7)\n",
    "        print(111)\n",
    "\n",
    "try:\n",
    "    a()\n",
    "except func_timeout.exceptions.FunctionTimedOut:\n",
    "    print(\"timeout\")\n",
    "except Exception:\n",
    "    print(\"error\")"
   ]
  }
 ],
 "metadata": {
  "kernelspec": {
   "display_name": "base",
   "language": "python",
   "name": "python3"
  },
  "language_info": {
   "codemirror_mode": {
    "name": "ipython",
    "version": 3
   },
   "file_extension": ".py",
   "mimetype": "text/x-python",
   "name": "python",
   "nbconvert_exporter": "python",
   "pygments_lexer": "ipython3",
   "version": "3.11.5"
  }
 },
 "nbformat": 4,
 "nbformat_minor": 2
}
