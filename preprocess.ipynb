{
 "cells": [
  {
   "cell_type": "code",
   "execution_count": 4,
   "metadata": {},
   "outputs": [
    {
     "name": "stdout",
     "output_type": "stream",
     "text": [
      "1494\n"
     ]
    }
   ],
   "source": [
    "import json\n",
    "import random\n",
    "random.seed(42)\n",
    "\n",
    "with open(\"./tmp/v1.0-simplified-nq-dev-all.jsonl\", \"r\", encoding=\"utf-8\") as f:\n",
    "    data = [json.loads(line) for line in f.readlines()]\n",
    "    print(len(data))\n",
    "    # dict: id, question\n",
    "    data = [\n",
    "        {\n",
    "            \"id\": i,\n",
    "            \"user_query\": data[i][\"question_text\"],\n",
    "        }\n",
    "        for i in range(len(data))\n",
    "    ]\n",
    "    with open(\"./data/NaturalQuestions.json\", \"w\", encoding=\"utf-8\") as g:\n",
    "        json.dump(data, g, indent=2, ensure_ascii=False)\n",
    "        \n",
    "    data = random.sample(data, 100)\n",
    "    data = sorted(data, key=lambda x: x[\"id\"])\n",
    "    \n",
    "    with open(\"./NaturalQuestions.json\", \"w\", encoding=\"utf-8\") as g:\n",
    "        json.dump(data, g, indent=2, ensure_ascii=False)"
   ]
  },
  {
   "cell_type": "code",
   "execution_count": 2,
   "metadata": {},
   "outputs": [],
   "source": [
    "import json\n",
    "\n",
    "with open(\"./tmp/LearningQ/data/experiments/teded/tgt-test.txt\", \"r\", encoding=\"utf-8\") as f:\n",
    "    data = [line.strip() for line in f.readlines()]\n",
    "    data = [i for i in data if i.endswith(\"?\")]\n",
    "    data = [\n",
    "        {\n",
    "            \"id\": i,\n",
    "            \"user_query\": data[i],\n",
    "        }\n",
    "        for i in range(len(data))\n",
    "    ]\n",
    "    with open(\"./LearningQ.json\", \"w\", encoding=\"utf-8\") as g:\n",
    "        json.dump(data, g, indent=2, ensure_ascii=False)"
   ]
  },
  {
   "cell_type": "code",
   "execution_count": 2,
   "metadata": {},
   "outputs": [],
   "source": [
    "import json\n",
    "\n",
    "model = \"vicuna-13b\"\n",
    "files = [\n",
    "            \"BioASQ\",\n",
    "            \"nfcorpus\",\n",
    "            \"FiQA-2018\",\n",
    "            \"SciFact\",\n",
    "            \"LearningQ\",\n",
    "            \"NaturalQuestions\",\n",
    "            \"HotpotQA\",\n",
    "        ]\n",
    "\n",
    "for file in files:\n",
    "\n",
    "    with open(f\"./{model}/{file}.json\", \"r\", encoding=\"utf-8\") as f:\n",
    "        add = json.load(f)\n",
    "    with open(f\"./data/{file}.json\", \"r\", encoding=\"utf-8\") as f:\n",
    "        data = json.load(f)\n",
    "\n",
    "    for i in range(len(data)):\n",
    "        data[i][f\"{model}_response\"] = add[i][f\"{model}_response\"]\n",
    "\n",
    "    with open(f\"./data/{file}_.json\", \"w\", encoding=\"utf-8\") as g:\n",
    "        json.dump(data, g, indent=2, ensure_ascii=False)"
   ]
  },
  {
   "cell_type": "code",
   "execution_count": 4,
   "metadata": {},
   "outputs": [
    {
     "name": "stdout",
     "output_type": "stream",
     "text": [
      "5235\n"
     ]
    }
   ],
   "source": [
    "with open(\"./data/SciFact_add.json\", \"r\", encoding=\"utf-8\") as f:\n",
    "    data = json.load(f)\n",
    "    print(len(data))\n",
    "    data = [\n",
    "        {\n",
    "            \"id\": i,\n",
    "            \"user_query\": data[i][\"user_query\"],\n",
    "            \"chatgpt_response\": data[i][\"chatgpt_response\"],\n",
    "            \"text-davinci-002_response\": data[i][\"text-davinci-002_response\"],\n",
    "            \"text-davinci-003_response\": data[i][\"text-davinci-003_response\"],\n",
    "            \"llama-2-7b-chat-hf_response\": data[i][\"llama-2-7b-chat-hf_response\"],\n",
    "            \"llama-2-13b-chat-hf_response\": data[i][\"llama-2-13b-chat-hf_response\"],\n",
    "            \"alpaca-7b_response\": data[i][\"alpaca-7b_response\"],\n",
    "        }\n",
    "        for i in range(len(data))\n",
    "    ]\n",
    "    with open(\"./data/SciFact_add_.json\", \"w\", encoding=\"utf-8\") as g:\n",
    "        json.dump(data, g, indent=2, ensure_ascii=False)"
   ]
  },
  {
   "cell_type": "code",
   "execution_count": 1,
   "metadata": {},
   "outputs": [],
   "source": [
    "# read judge_part files\n",
    "import json\n",
    "import os\n",
    "\n",
    "for path in os.listdir(\"./judge_part\"):\n",
    "    with open(f\"./judge_part/{path}\", \"r\", encoding=\"utf-8\") as f:\n",
    "        data = json.load(f)\n",
    "        data = sorted(data, key=lambda x: x[\"id\"])\n",
    "        with open(f\"./judge_part/{path}_\", \"w\", encoding=\"utf-8\") as g:\n",
    "            json.dump(data, g, indent=2, ensure_ascii=False)"
   ]
  },
  {
   "cell_type": "code",
   "execution_count": null,
   "metadata": {},
   "outputs": [],
   "source": [
    "import os\n",
    "import json\n",
    "\n",
    "for path in os.listdir(\"./data\"):\n",
    "    with open(f\"./data/{path}\", \"r\", encoding=\"utf-8\") as f:\n",
    "        data = json.load(f)\n",
    "        # for key end with \"response\", clear the multiple \"\\n\" of its value, and save it.\n",
    "        for i in range(len(data)):\n",
    "            for key in data[i].keys():\n",
    "                if key.endswith(\"response\"):\n",
    "                    ans = data[i][key]\n",
    "                    ans = ans.strip().split(\"\\n\")\n",
    "                    ans = \"\\n\".join([_ for _ in ans if _])\n",
    "                    data[i][key] = ans\n",
    "        with open(f\"./new/{path}\", \"w\", encoding=\"utf-8\") as g:\n",
    "            json.dump(data, g, indent=2, ensure_ascii=False)"
   ]
  },
  {
   "cell_type": "code",
   "execution_count": 1,
   "metadata": {},
   "outputs": [],
   "source": [
    "import json\n",
    "\n",
    "path = \"./data\"\n",
    "# files = [\n",
    "    # \"BioASQ\",\n",
    "    # \"nfcorpus\",\n",
    "    # \"FiQA-2018\",\n",
    "    # \"SciFact\",\n",
    "    # \"LearningQ\",\n",
    "    # \"NaturalQuestions\",\n",
    "    # \"HotpotQA\",\n",
    "# ]\n",
    "with open(f\"{path}/Open-Domain.json\", \"r\", encoding=\"utf-8\") as f:\n",
    "    data = json.load(f)\n",
    "with open(f\"{path}/halueval.json\", \"r\", encoding=\"utf-8\") as f:\n",
    "    add = json.load(f)\n",
    "data.extend(add)\n",
    "for i in range(len(data)):\n",
    "    data[i][\"id\"] = i\n",
    "with open(f\"./data/Open-Domain.json\", \"w\", encoding=\"utf-8\") as g:\n",
    "    json.dump(data, g, indent=2, ensure_ascii=False)"
   ]
  },
  {
   "cell_type": "code",
   "execution_count": 1,
   "metadata": {},
   "outputs": [],
   "source": [
    "import json\n",
    "\n",
    "with open(\"./add/Open-Domain.json\", \"r\", encoding=\"utf-8\") as f:\n",
    "    data = json.load(f)\n",
    "data = sorted(data, key=lambda x: x[\"id\"])\n",
    "with open(\"./add/Open-Domain.json\", \"w\", encoding=\"utf-8\") as g:\n",
    "    json.dump(data, g, indent=2, ensure_ascii=False)"
   ]
  },
  {
   "cell_type": "code",
   "execution_count": 3,
   "metadata": {},
   "outputs": [
    {
     "name": "stdout",
     "output_type": "stream",
     "text": [
      "20\n"
     ]
    }
   ],
   "source": [
    "import json\n",
    "\n",
    "with open(\"../hallu/data/hallu_add/qa.json\", \"r\", encoding=\"utf-8\") as f:\n",
    "    data = [json.loads(line) for line in f.readlines()][:20]\n",
    "    print(len(data))\n",
    "    # json file\n",
    "    data = [\n",
    "        {\n",
    "            \"id\": i,\n",
    "            \"user_query\": data[i][\"question\"].strip(),\n",
    "        }\n",
    "        for i in range(len(data))\n",
    "    ]\n",
    "with open(\"./Open-Domain_demo.json\", \"w\", encoding=\"utf-8\") as f:\n",
    "    json.dump(data, f, indent=2, ensure_ascii=False)"
   ]
  },
  {
   "cell_type": "code",
   "execution_count": 9,
   "metadata": {},
   "outputs": [],
   "source": [
    "import os\n",
    "import json\n",
    "from main import check_exist\n",
    "\n",
    "id_path = \"./pure/data/\"\n",
    "data_path = \"./response/llama-2-7b-chat-hf_top-p/\"\n",
    "save_path = \"./pure/llama-2-7b-chat-hf_top-p/\"\n",
    "for path in os.listdir(id_path):\n",
    "    if path in [\n",
    "        # \"Bio-Medical.json\",\n",
    "        # \"Finance.json\",\n",
    "        # \"Science.json\",\n",
    "        # \"Education.json\",\n",
    "        # \"Open-Domain.json\",\n",
    "    ]:\n",
    "        continue\n",
    "    with open(os.path.join(id_path, path), \"r\", encoding=\"utf-8\") as f:\n",
    "        data = json.load(f)\n",
    "        ids = [i[\"id\"] for i in data]\n",
    "    with open(os.path.join(data_path, path), \"r\", encoding=\"utf-8\") as f:\n",
    "        gpt = json.load(f)\n",
    "    gpt = [i for i in gpt if i[\"id\"] in ids]\n",
    "    gpt = sorted(gpt, key=lambda x: x[\"id\"])\n",
    "    check_exist(save_path)\n",
    "    with open(os.path.join(save_path, path), \"w\", encoding=\"utf-8\") as g:\n",
    "        json.dump(gpt, g, indent=2, ensure_ascii=False)"
   ]
  }
 ],
 "metadata": {
  "kernelspec": {
   "display_name": "base",
   "language": "python",
   "name": "python3"
  },
  "language_info": {
   "codemirror_mode": {
    "name": "ipython",
    "version": 3
   },
   "file_extension": ".py",
   "mimetype": "text/x-python",
   "name": "python",
   "nbconvert_exporter": "python",
   "pygments_lexer": "ipython3",
   "version": "3.11.5"
  }
 },
 "nbformat": 4,
 "nbformat_minor": 2
}
